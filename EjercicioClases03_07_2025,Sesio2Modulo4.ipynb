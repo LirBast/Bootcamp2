{
  "nbformat": 4,
  "nbformat_minor": 0,
  "metadata": {
    "colab": {
      "provenance": [],
      "authorship_tag": "ABX9TyMvlNsY0Ri9WzZ9+oxKymar",
      "include_colab_link": true
    },
    "kernelspec": {
      "name": "python3",
      "display_name": "Python 3"
    },
    "language_info": {
      "name": "python"
    }
  },
  "cells": [
    {
      "cell_type": "markdown",
      "metadata": {
        "id": "view-in-github",
        "colab_type": "text"
      },
      "source": [
        "<a href=\"https://colab.research.google.com/github/LirBast/Bootcamp2/blob/main/EjercicioClases03_07_2025%2CSesio2Modulo4.ipynb\" target=\"_parent\"><img src=\"https://colab.research.google.com/assets/colab-badge.svg\" alt=\"Open In Colab\"/></a>"
      ]
    },
    {
      "cell_type": "code",
      "execution_count": null,
      "metadata": {
        "id": "q_7D0ameoL9v"
      },
      "outputs": [],
      "source": [
        "import pandas as pd\n",
        "\n",
        "datos = [7,8,6,9,7,6,8,9,7,8,7,9,6,7,8]\n",
        "\n",
        "df = pd.DataFrame(datos, columns=['calificacion'])\n",
        "# Tabla de frecuencias\n",
        "tabla_frecuencia = df[\"calificacion\"].value_counts().sort_index().to_frame(\"Frecuencia Absoluta\")\n",
        "# Agregar frecuencia relativa\n",
        "tabla_frecuencia[\"Frecuencia Relativa\"] = tabla_frecuencia[\"Frecuencia Absoluta\"] / tabla_frecuencia[\"Frecuencia Absoluta\"].sum()\n",
        "# Frecuencia acumulada\n",
        "tabla_frecuencia[\"Frecuencia Acumulada\"] = tabla_frecuencia[\"Frecuencia Absoluta\"].cumsum()\n",
        "# Frecuencia relativa acumulada\n",
        "tabla_frecuencia[\"Frecuencia Relativa Acumulada\"] = tabla_frecuencia[\"Frecuencia Acumulada\"] / tabla_frecuencia[\"Frecuencia Absoluta\"].sum()\n",
        "\n",
        "# Mostrar tabla\n",
        "print(tabla_frecuencia)\n"
      ]
    },
    {
      "cell_type": "code",
      "source": [
        "from scipy import stats\n",
        "datos=[1,2,3,4,5]\n",
        "moda=stats.mode(datos)\n",
        "print(moda)\n",
        "### hay que tener cuidado con las funciones porque ciertas librerias pueden generar errores al momento de calcular, por lo que hay que analizar las bibliotecas de cada libreria ocupada"
      ],
      "metadata": {
        "colab": {
          "base_uri": "https://localhost:8080/"
        },
        "id": "ZPyN_7lwrQnp",
        "outputId": "9d299e91-8b4c-426d-d02e-7c67d4f10c3b"
      },
      "execution_count": 20,
      "outputs": [
        {
          "output_type": "stream",
          "name": "stdout",
          "text": [
            "ModeResult(mode=np.int64(1), count=np.int64(1))\n"
          ]
        }
      ]
    },
    {
      "cell_type": "code",
      "source": [
        "from statistics import multimode\n",
        "datos=[1,1,2,3,4,5,5,5,5,5,5,6,6,6,6,6,6,7,8,9,9,9,9,9,9]\n",
        "moda=multimode(datos)\n",
        "print(moda)"
      ],
      "metadata": {
        "colab": {
          "base_uri": "https://localhost:8080/"
        },
        "id": "fKeF9aemtHpL",
        "outputId": "558a9081-a05e-4c7b-de53-b323c2a25383"
      },
      "execution_count": 18,
      "outputs": [
        {
          "output_type": "stream",
          "name": "stdout",
          "text": [
            "[5, 6, 9]\n"
          ]
        }
      ]
    },
    {
      "cell_type": "code",
      "source": [
        "from statistics import multimode\n",
        "\n",
        "datos_rango=[3,5,7,9,11]\n",
        "rango=max(datos_rango)-min(datos_rango)\n",
        "print(f'El rango de variacion es: {rango}')"
      ],
      "metadata": {
        "colab": {
          "base_uri": "https://localhost:8080/"
        },
        "id": "dstl8T1uvPa4",
        "outputId": "b39784b0-d476-46c5-c512-1ad3b870f0a2"
      },
      "execution_count": 21,
      "outputs": [
        {
          "output_type": "stream",
          "name": "stdout",
          "text": [
            "El rango de variacion es: 8\n"
          ]
        }
      ]
    },
    {
      "cell_type": "code",
      "source": [
        "import numpy as np\n",
        "datos=[10,12,15,13,11]\n",
        "#varianza poblacional\n",
        "varianza_pob=np.var(datos)\n",
        "print(f'Varianza poblacional: {varianza_pob:.2f}')\n",
        "\n",
        "#Desviacion estandar poblacional\n",
        "desv_pob=np.std(datos)\n",
        "print(f'Desviacion estandar poblacional: {desv_pob:.2f}')\n",
        "\n",
        "#varianza muestral\n",
        "varianza_muestral=np.var(datos,ddof=1)\n",
        "print(f'Varianza muestral: {varianza_muestral:.2f}')\n",
        "#Desviacion estandar muestral\n",
        "desv_muestral=np.std(datos,ddof=1)\n",
        "print(f'Desviación estándar muestral: {desv_muestral:.2f}')"
      ],
      "metadata": {
        "colab": {
          "base_uri": "https://localhost:8080/"
        },
        "id": "1779Od3RxEi7",
        "outputId": "124d494e-165d-4a1b-f3a2-4807cfe406d5"
      },
      "execution_count": 27,
      "outputs": [
        {
          "output_type": "stream",
          "name": "stdout",
          "text": [
            "Varianza poblacional: 2.96\n",
            "Desviacion estandar poblacional: 1.72\n",
            "Varianza muestral: 3.70\n",
            "Desviación estándar muestral: 1.92\n"
          ]
        }
      ]
    },
    {
      "cell_type": "code",
      "source": [
        "import numpy as np\n",
        "poblacion_edades=np.array([18,19,22,21,22,23,24,25,26,27,28,29,30,31,32,33,34,35])\n",
        "print(poblacion_edades)\n",
        "\n",
        "muestra=np.random.choice(poblacion_edades,size=5,replace=True)\n",
        "print(f'Muestra de edades: {muestra}')\n"
      ],
      "metadata": {
        "colab": {
          "base_uri": "https://localhost:8080/"
        },
        "id": "gfzrfKjK4BXw",
        "outputId": "0f0d09d4-2cf0-4cac-b0ff-8769dac8ec25"
      },
      "execution_count": 40,
      "outputs": [
        {
          "output_type": "stream",
          "name": "stdout",
          "text": [
            "[18 19 22 21 22 23 24 25 26 27 28 29 30 31 32 33 34 35]\n",
            "Muestra de edades: [19 22 32 22 30]\n"
          ]
        }
      ]
    },
    {
      "cell_type": "code",
      "source": [
        "import numpy as np\n",
        "\n",
        "datos_cuantiles=np.array([10,12,15,18,20,22,25,28,30,32])\n",
        "\n",
        "q1=np.percentile(datos_cuantiles,25)\n",
        "q2=np.percentile(datos_cuantiles,50)\n",
        "q3=np.percentile(datos_cuantiles,75)\n",
        "\n",
        "\n",
        "print(datos_cuantiles)\n",
        "print(\"---------------------\")\n",
        "print(f'Dato cuartil 25: {q1}')\n",
        "print(f'Dato cuartil 50: {q2}')\n",
        "print(f'Dato cuartil 75: {q3}')"
      ],
      "metadata": {
        "id": "rj0w-See74Ka"
      },
      "execution_count": null,
      "outputs": []
    },
    {
      "cell_type": "code",
      "source": [
        "import numpy as np\n",
        "\n",
        "datos_cuantiles=np.array([10,12,15,18,20,22,25,28,30,32])\n",
        "\n",
        "q1=np.percentile(datos_cuantiles,25)\n",
        "q2=np.percentile(datos_cuantiles,50)\n",
        "q3=np.percentile(datos_cuantiles,75)\n",
        "\n",
        "#quintil 1\n",
        "quintil1=np.percentile(datos_cuantiles,20)\n",
        "\n",
        "#decil 7\n",
        "decil7=np.percentile(datos_cuantiles,70)\n",
        "\n",
        "#percentil 99\n",
        "percil99=np.percentile(datos_cuantiles,99)\n",
        "\n",
        "print(datos_cuantiles)\n",
        "print(\"---------------------\")\n",
        "print(f'Dato cuartil 25: {q1}')\n",
        "print(f'Dato cuartil 50: {q2}')\n",
        "print(f'Dato cuartil 75: {q3}')\n",
        "print(\"---------------------\")\n",
        "print(f'Dato quintil 1: {quintil1}')\n",
        "print(f'Dato decil 7: {decil7}')\n",
        "print(f'Dato percentil 99: {percil99}')\n"
      ],
      "metadata": {
        "id": "hfG86GSkCN3B"
      },
      "execution_count": null,
      "outputs": []
    },
    {
      "cell_type": "code",
      "source": [
        "import pandas as pd\n",
        "import numpy as np\n",
        "from matplotlib import pyplot as plt\n",
        "from scipy import stats as st\n",
        "from statistics import multimode as mlm\n",
        "\n",
        "edades_estudiantes = np.array([18, 19, 19, 20, 20, 20, 21, 21, 21, 22, 22, 22, 23, 23, 24, 24, 25, 26, 27, 80])\n",
        "df = pd.DataFrame(edades_estudiantes, columns=['Edad'])\n",
        "\n",
        "tabla_frecuencia_edad=df[\"Edad\"].value_counts().sort_index().to_frame(\"Frecuencia Absoluta\")\n",
        "tabla_frecuencia_edad[\"Frecuencia Relativa\"]=tabla_frecuencia_edad[\"Frecuencia Absoluta\"]/tabla_frecuencia_edad[\"Frecuencia Absoluta\"].sum()\n",
        "tabla_frecuencia_edad[\"Frecuencia Acumulada\"]=tabla_frecuencia_edad[\"Frecuencia Absoluta\"].cumsum()\n",
        "tabla_frecuencia_edad[\"Frecuencia Relativa Acumulada\"]=tabla_frecuencia_edad[\"Frecuencia Relativa\"].cumsum()\n",
        "\n",
        "print(tabla_frecuencia_edad)\n",
        "\n",
        "print(\"-----------------------------------------------------------------\")\n",
        "\n",
        "media=np.mean(df)\n",
        "mediana=np.median(df)\n",
        "moda=stats.mode(df[\"Edad\"])\n",
        "moda_estudiantes=moda[0]\n",
        "print(f'media de la edad: {media:.2f}')\n",
        "print(f'mediana de la edad: {mediana:.2f}')\n",
        "print(f'moda de la edad: {moda_estudiantes:.2f}')\n",
        "\n",
        "\n",
        "#multimoda\n",
        "print(\"-----------------------------------------------------------------\")\n",
        "modas=df['Edad'].mode()\n",
        "print('Modas pandas',modas)\n",
        "print(\"-----------------------------------------------------------------\")\n",
        "multimodas=mlm(df['Edad'])\n",
        "print('multimode:', multimodas)\n",
        "\n",
        "#medidas de dispersion\n",
        "print(\"-----------------------------------------------------------------\")\n",
        "rango=df['Edad'].max()-df['Edad'].min()\n",
        "print(f'el rango es: {rango} ')\n",
        "print(\"-----------------------------------------------------------------\")\n",
        "#Varianza muestral\n",
        "varianza_muestral=np.var(df['Edad'],ddof=1)\n",
        "print(f'La varianza muestral es: {varianza_muestral:.2f}')\n",
        "\n",
        "desv_estandar_muestral=np.std(df['Edad'],ddof=1)\n",
        "print(f'La desviacion estandar muestral es: {desv_estandar_muestral:.2f}')\n",
        "print(\"-----------------------------------------------------------------\")\n",
        "### Medidas de posicion\n",
        "\n",
        "q1=np.percentile(df['Edad'],25)\n",
        "q2=np.percentile(df['Edad'],50)\n",
        "q3=np.percentile(df['Edad'],75)\n",
        "\n",
        "print(f'El percentil q1 es: {q1}') ### los 25% de los datos tiene 20 años o menos\n",
        "print(f'El percentil q2 es: {q2}') ### los 50% de los datos tiene 22 años o menos\n",
        "print(f'El percentil q3 es: {q3}') ### los 75% de los datos tiene 24 años o menos\n",
        "print(\"-----------------------------------------------------------------\")\n",
        "\n",
        "# calculo del IQR y outliers\n",
        "\n",
        "iqr=q3-q1\n",
        "print(f'iqr es: {iqr}')\n",
        "\n",
        "lim_inferior=q1-1.5*iqr\n",
        "lim_sup=q3+1.5*iqr\n",
        "print(f'Limite inferior es: {lim_inferior}')\n",
        "print(f'Limite superior es: {lim_sup}')\n",
        "\n",
        "print(\"-----------------------------------------------------------------\")\n",
        "df_filtrado=df[(df['Edad']> lim_inferior)&(df['Edad']<lim_sup)]\n",
        "print(df_filtrado)\n",
        "\n",
        "print(\"-----------------------------------------------------------------\")\n",
        "\n",
        "#histograma\n",
        "\n",
        "plt.figure(figsize=(12,5))\n",
        "plt.subplot(1,2,1)\n",
        "plt.hist(df['Edad'],bins=5)\n",
        "plt.title('Histograma con outliers')\n",
        "plt.xlabel('Edad')\n",
        "plt.ylabel('Frecuencia')\n",
        "plt.show()\n",
        "\n",
        "\n",
        "plt.subplot(1,2,2)\n",
        "plt.boxplot(df['Edad'],patch_artist=True,medianprops={\"color\":'red'})\n",
        "plt.title('Boxplot con outliers')\n",
        "plt.ylabel('Edad')\n",
        "plt.show()\n",
        "\n",
        "print(\"-----------------------------------------------------------------\")\n",
        "\n",
        "plt.figure(figsize=(12,5))\n",
        "plt.subplot(1,2,1)\n",
        "plt.hist(df_filtrado[\"Edad\"],bins=5)\n",
        "plt.title('Histograma sin outliers')\n",
        "plt.xlabel('Edad')\n",
        "plt.ylabel('Frecuencia')\n",
        "plt.show()\n",
        "\n",
        "\n",
        "plt.subplot(1,2,2)\n",
        "plt.boxplot(df_filtrado[\"Edad\"],patch_artist=True,medianprops={\"color\":'red'})\n",
        "plt.title('Boxplot sin outliers')\n",
        "plt.ylabel('Edad')\n",
        "plt.show()"
      ],
      "metadata": {
        "colab": {
          "base_uri": "https://localhost:8080/",
          "height": 1000
        },
        "id": "pilBeY1EGs0i",
        "outputId": "116280a4-5664-4399-8246-51cfa4fb9abc"
      },
      "execution_count": 110,
      "outputs": [
        {
          "output_type": "stream",
          "name": "stdout",
          "text": [
            "      Frecuencia Absoluta  Frecuencia Relativa  Frecuencia Acumulada  \\\n",
            "Edad                                                                   \n",
            "18                      1                 0.05                     1   \n",
            "19                      2                 0.10                     3   \n",
            "20                      3                 0.15                     6   \n",
            "21                      3                 0.15                     9   \n",
            "22                      3                 0.15                    12   \n",
            "23                      2                 0.10                    14   \n",
            "24                      2                 0.10                    16   \n",
            "25                      1                 0.05                    17   \n",
            "26                      1                 0.05                    18   \n",
            "27                      1                 0.05                    19   \n",
            "80                      1                 0.05                    20   \n",
            "\n",
            "      Frecuencia Relativa Acumulada  \n",
            "Edad                                 \n",
            "18                             0.05  \n",
            "19                             0.15  \n",
            "20                             0.30  \n",
            "21                             0.45  \n",
            "22                             0.60  \n",
            "23                             0.70  \n",
            "24                             0.80  \n",
            "25                             0.85  \n",
            "26                             0.90  \n",
            "27                             0.95  \n",
            "80                             1.00  \n",
            "-----------------------------------------------------------------\n",
            "media de la edad: 24.85\n",
            "mediana de la edad: 22.00\n",
            "moda de la edad: 20.00\n",
            "-----------------------------------------------------------------\n",
            "Modas pandas 0    20\n",
            "1    21\n",
            "2    22\n",
            "Name: Edad, dtype: int64\n",
            "-----------------------------------------------------------------\n",
            "multimode: [20, 21, 22]\n",
            "-----------------------------------------------------------------\n",
            "el rango es: 62 \n",
            "-----------------------------------------------------------------\n",
            "La varianza muestral es: 174.24\n",
            "La desviacion estandar muestral es: 13.20\n",
            "-----------------------------------------------------------------\n",
            "El percentil q1 es: 20.0\n",
            "El percentil q2 es: 22.0\n",
            "El percentil q3 es: 24.0\n",
            "-----------------------------------------------------------------\n",
            "iqr es: 4.0\n",
            "Limite inferior es: 14.0\n",
            "Limite superior es: 30.0\n",
            "-----------------------------------------------------------------\n",
            "    Edad\n",
            "0     18\n",
            "1     19\n",
            "2     19\n",
            "3     20\n",
            "4     20\n",
            "5     20\n",
            "6     21\n",
            "7     21\n",
            "8     21\n",
            "9     22\n",
            "10    22\n",
            "11    22\n",
            "12    23\n",
            "13    23\n",
            "14    24\n",
            "15    24\n",
            "16    25\n",
            "17    26\n",
            "18    27\n",
            "-----------------------------------------------------------------\n"
          ]
        },
        {
          "output_type": "display_data",
          "data": {
            "text/plain": [
              "<Figure size 1200x500 with 1 Axes>"
            ],
            "image/png": "[encoded data removed]"
          },
          "metadata": {}
        },
        {
          "output_type": "display_data",
          "data": {
            "text/plain": [
              "<Figure size 640x480 with 1 Axes>"
            ],
            "image/png": "[encoded data removed]"
          },
          "metadata": {}
        },
        {
          "output_type": "stream",
          "name": "stdout",
          "text": [
            "-----------------------------------------------------------------\n"
          ]
        },
        {
          "output_type": "display_data",
          "data": {
            "text/plain": [
              "<Figure size 1200x500 with 1 Axes>"
            ],
            "image/png": "[encoded data removed]"
          },
          "metadata": {}
        },
        {
          "output_type": "display_data",
          "data": {
            "text/plain": [
              "<Figure size 640x480 with 1 Axes>"
            ],
            "image/png": "[encoded data removed]"
          },
          "metadata": {}
        }
      ]
    }
  ]
}